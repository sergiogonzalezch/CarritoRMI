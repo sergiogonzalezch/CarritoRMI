{
  "cells": [
    {
      "cell_type": "markdown",
      "metadata": {
        "id": "view-in-github",
        "colab_type": "text"
      },
      "source": [
        "<a href=\"https://colab.research.google.com/github/sergiogonzalezch/CarritoRMI/blob/master/Mi_Cuaderno.ipynb\" target=\"_parent\"><img src=\"https://colab.research.google.com/assets/colab-badge.svg\" alt=\"Open In Colab\"/></a>"
      ]
    },
    {
      "cell_type": "markdown",
      "metadata": {
        "id": "k0RucGsXq75K"
      },
      "source": [
        "# 1. Mount our Google Drive"
      ]
    },
    {
      "cell_type": "code",
      "execution_count": null,
      "metadata": {
        "id": "9S8FGAiSCm-1"
      },
      "outputs": [],
      "source": [
        "from google.colab import drive\n",
        "drive.mount('/content/drive')"
      ]
    },
    {
      "cell_type": "markdown",
      "metadata": {
        "id": "Ot1k1iRX3U63"
      },
      "source": [
        "# 2. Install AUTOMATIC1111 web ui"
      ]
    },
    {
      "cell_type": "code",
      "execution_count": null,
      "metadata": {
        "id": "H6lLF1he3cIF"
      },
      "outputs": [],
      "source": [
        "!git clone https://github.com/camenduru/stable-diffusion-webui\n",
        "!pip install -q --pre triton\n",
        "!wget https://raw.githubusercontent.com/camenduru/stable-diffusion-webui-scripts/main/run_n_times.py -O /content/stable-diffusion-webui/scripts/run_n_times.py\n",
        "!git clone https://github.com/yfszzx/stable-diffusion-webui-images-browser /content/stable-diffusion-webui/extensions/stable-diffusion-webui-images-browser\n",
        "!git clone https://github.com/KutsuyaYuki/ABG_extension.git /content/stable-diffusion-webui/extensions/stable-diffusion-remove-background\n",
        "!git clone -b 1.16.2 https://github.com/DominikDoom/a1111-sd-webui-tagcomplete /content/stable-diffusion-webui/extensions/tag-autocomplete\n",
        "!git clone https://github.com/camenduru/sd-civitai-browser /content/stable-diffusion-webui/extensions/sd-civitai-browser\n",
        "!git clone https://github.com/camenduru/sd-webui-additional-networks /content/stable-diffusion-webui/extensions/sd-webui-additional-networks\n",
        "!git clone https://github.com/JaeDukSeo/novelai-2-local-prompt.git /content/stable-diffusion-webui/extensions/novelai-2-local-prompt\n",
        "!git clone https://github.com/deforum-art/deforum-for-automatic1111-webui /content/stable-diffusion-webui/extensions/deforum"
      ]
    },
    {
      "cell_type": "markdown",
      "metadata": {
        "id": "sWvJQj9eq7Gd"
      },
      "source": [
        "# 3. Load our model(s)"
      ]
    },
    {
      "cell_type": "markdown",
      "metadata": {
        "id": "t3h7h9Cj3fyT"
      },
      "source": [
        "OPTION 1: using model code "
      ]
    },
    {
      "cell_type": "code",
      "execution_count": null,
      "metadata": {
        "id": "sBbcB4vwj_jm"
      },
      "outputs": [],
      "source": [
        "# Change the model code below to our desired model(s), below are model code for Anygen x3.7\n",
        "# !curl -Lo anygenv3.7.ckpt https://huggingface.co/nolanaatama/Anygen_v3.7/resolve/main/anygenz5.6.ckpt\n",
        "# !curl -Lo anygenv3.7.vae.pt https://huggingface.co/nolanaatama/Anygen_v3.7/resolve/main/anygenz5.6.vae.pt\n",
        "# !mv \"/content/anygenv3.7.ckpt\" \"/content/stable-diffusion-webui/models/Stable-diffusion\"\n",
        "# !mv \"/content/anygenv3.7.vae.pt\" \"/content/stable-diffusion-webui/models/VAE\"\n",
        "\n",
        "# model 2\n",
        "# !curl -Lo sd1.5.ckpt https://huggingface.co/nolanaatama/sd15/resolve/main/model.ckpt\n",
        "# !mv \"/content/sd1.5.ckpt\" \"/content/stable-diffusion-webui/models/Stable-diffusion\"\n",
        "\n",
        "# model 3\n",
        "# !curl -Lo sd1.5inpainting.ckpt https://huggingface.co/runwayml/stable-diffusion-inpainting/resolve/main/sd-v1-5-inpainting.ckpt\n",
        "# !mv \"/content/sd1.5inpainting.ckpt\" \"/content/stable-diffusion-webui/models/Stable-diffusion\"\n",
        "\n",
        "# model 4\n",
        "# !curl -Lo sd2.1.ckpt https://huggingface.co/stabilityai/stable-diffusion-2-1/resolve/main/v2-1_768-ema-pruned.ckpt\n",
        "# !mv \"/content/sd2.1.ckpt\" \"/content/stable-diffusion-webui/models/Stable-diffusion\"\n",
        "\n",
        "# model 5\n",
        "# !curl -Lo openjourney.ckpt https://huggingface.co/prompthero/openjourney/resolve/main/mdjrny-v4.ckpt\n",
        "# !mv \"/content/openjourney.ckpt\" \"/content/stable-diffusion-webui/models/Stable-diffusion\"\n",
        "\n",
        "# model 6\n",
        "# !curl -Lo inkpunkv2.ckpt https://huggingface.co/Envvi/Inkpunk-Diffusion/resolve/main/Inkpunk-Diffusion-v2.ckpt\n",
        "# !mv \"/content/inkpunkv2.ckpt\" \"/content/stable-diffusion-webui/models/Stable-diffusion\"\n",
        "\n",
        "# model 7\n",
        "# !curl -Lo future.ckpt https://huggingface.co/nitrosocke/Future-Diffusion/resolve/main/future-diffusion-v1.ckpt\n",
        "# !mv \"/content/future.ckpt\" \"/content/stable-diffusion-webui/models/Stable-diffusion\"\n",
        "\n",
        "# model 8\n",
        "# !curl -Lo dreamlike.ckpt https://huggingface.co/dreamlike-art/dreamlike-diffusion-1.0/resolve/main/dreamlike-diffusion-1.0.ckpt\n",
        "# !mv \"/content/dreamlike.ckpt\" \"/content/stable-diffusion-webui/models/Stable-diffusion\"\n",
        "\n",
        "# model 9\n",
        "!curl -Lo yiff-e18.ckpt https://huggingface.co/Doubleyobro/yiffy-e18/resolve/main/yiffy-e18.ckpt\n",
        "!mv \"/content/yiff-e18.ckpt\" \"/content/stable-diffusion-webui/models/Stable-diffusion\"\n",
        "\n",
        "# model 10\n",
        "# !curl -Lo holo.ckpt https://huggingface.co/SDAddictsAnon/holosomnialandscape/resolve/main/holosomnialandscape.ckpt\n",
        "# !mv \"/content/holo.ckpt\" \"/content/stable-diffusion-webui/models/Stable-diffusion\"\n",
        "\n",
        "#model 11\n",
        "# !curl -Lo pastelMix.ckpt https://huggingface.co/andite/pastel-mix/resolve/main/pastelmix.ckpt\n",
        "# !mv \"/content/pastelMix.ckpt\" \"/content/stable-diffusion-webui/models/Stable-diffusion\"\n",
        "\n",
        "#model 12\n",
        "# !curl -Lo anythingv3.ckpt  https://huggingface.co/ckpt/anything-v3.0/resolve/main/Anything-V3.0-pruned.ckpt\n",
        "# !curl -Lo anythingv3.vae.pt https://huggingface.co/ckpt/anything-v3.0/resolve/main/Anything-V3.0.vae.pt\n",
        "# !mv \"/content/anythingv3.ckpt\" \"/content/stable-diffusion-webui/models/Stable-diffusion\"\n",
        "# !mv \"/content/anythingv3.vae.pt\" \"/content/stable-diffusion-webui/models/Stable-diffusion\""
      ]
    },
    {
      "cell_type": "markdown",
      "metadata": {
        "id": "BZ8SPjKi3qUs"
      },
      "source": [
        "OPTION 2: load model from Google Drive"
      ]
    },
    {
      "cell_type": "code",
      "execution_count": null,
      "metadata": {
        "id": "bS81tISi4CRm"
      },
      "outputs": [],
      "source": [
        "# Change the file path below with our model path and vae (optiona)\n",
        "!cp \"/content/gdrive/MyDrive/mymodel/OURMODELNAME1.ckpt\" \"/content/stable-diffusion-webui/models/Stable-diffusion\"\n",
        "!cp \"/content/gdrive/MyDrive/mymodel/OURVAENAME1.vae.pt\" \"/content/stable-diffusion-webui/models/VAE\"\n",
        "\n",
        "# remove '#' from the beginning of these lines below and change the file path if we want to load more than one model\n",
        "\n",
        "# model 2\n",
        "# !cp \"/content/gdrive/MyDrive/mymodel/OURMODELNAME2.ckpt\" \"/content/stable-diffusion-webui/models/Stable-diffusion\"\n",
        "# !cp \"/content/gdrive/MyDrive/mymodel/OURVAENAME2.vae.pt\" \"/content/stable-diffusion-webui/models/VAE\"\n",
        "\n",
        "# model 3\n",
        "# !cp \"/content/gdrive/MyDrive/mymodel/OURMODELNAME3.ckpt\" \"/content/stable-diffusion-webui/models/Stable-diffusion\"\n",
        "# !cp \"/content/gdrive/MyDrive/mymodel/OURVAENAME2.vae.pt\" \"/content/stable-diffusion-webui/models/VAE\""
      ]
    },
    {
      "cell_type": "markdown",
      "metadata": {
        "id": "lc5jJV9crd4C"
      },
      "source": [
        "##Load our embeddings/textual inversions"
      ]
    },
    {
      "cell_type": "markdown",
      "metadata": {
        "id": "OJx4QIQosMMq"
      },
      "source": [
        "OPTION 1: choose individual emdeddings/textual inversion"
      ]
    },
    {
      "cell_type": "code",
      "execution_count": null,
      "metadata": {
        "id": "1E0f1kMTrGJ0"
      },
      "outputs": [],
      "source": [
        "# Change the file path to our embeddings/textual inversion file path.\n",
        "# Remove the '#' from the beginning of the other lines to load additional files.\n",
        "\n",
        "!cp \"/content/gdrive/MyDrive/our_embeddings_textualinversion/OUREMBEDDINGTEXTUALINVERSION1.pt\" \"/content/stable-diffusion-webui/embeddings\"\n",
        "#!cp \"/content/gdrive/MyDrive/our_embeddings_textualinversion/OUREMBEDDINGTEXTUALINVERSION2.pt\" \"/content/stable-diffusion-webui/embeddings\"\n",
        "#!cp \"/content/gdrive/MyDrive/our_embeddings_textualinversion/OUREMBEDDINGTEXTUALINVERSION3.pt\" \"/content/stable-diffusion-webui/embeddings\"\n",
        "#!cp \"/content/gdrive/MyDrive/our_embeddings_textualinversion/OUREMBEDDINGTEXTUALINVERSION4.pt\" \"/content/stable-diffusion-webui/embeddings\"\n",
        "#!cp \"/content/gdrive/MyDrive/our_embeddings_textualinversion/OUREMBEDDINGTEXTUALINVERSION5.pt\" \"/content/stable-diffusion-webui/embeddings\"\n",
        "#!cp \"/content/gdrive/MyDrive/our_embeddings_textualinversion/OUREMBEDDINGTEXTUALINVERSION6.pt\" \"/content/stable-diffusion-webui/embeddings\"\n",
        "#!cp \"/content/gdrive/MyDrive/our_embeddings_textualinversion/OUREMBEDDINGTEXTUALINVERSION7.pt\" \"/content/stable-diffusion-webui/embeddings\"\n",
        "#!cp \"/content/gdrive/MyDrive/our_embeddings_textualinversion/OUREMBEDDINGTEXTUALINVERSION8.pt\" \"/content/stable-diffusion-webui/embeddings\"\n",
        "# ...."
      ]
    },
    {
      "cell_type": "markdown",
      "metadata": {
        "id": "47CPtGUfsar8"
      },
      "source": [
        "OPTION 2: copy all embeddings/textual inversion file from google drive folder"
      ]
    },
    {
      "cell_type": "code",
      "execution_count": null,
      "metadata": {
        "id": "dKmIwc3lsYR6"
      },
      "outputs": [],
      "source": [
        "# Remove the '#' from the '!cp -r ...' line and change the file path to our embeddings/textual inversion folder path.\n",
        "# The embeddings/textual inversion folder path must be ended with '/.' like '/folder/subfolder/.'\n",
        "\n",
        "#!cp -r '/content/drive/MyDrive/our_embeddings_textualinversion1/.' '/content/stable-diffusion-webui/embeddings'\n",
        "#!cp -r '/content/drive/MyDrive/our_embeddings_textualinversion2/.' '/content/stable-diffusion-webui/embeddings'\n",
        "#!cp -r '/content/drive/MyDrive/our_embeddings_textualinversion3/.' '/content/stable-diffusion-webui/embeddings'"
      ]
    },
    {
      "cell_type": "markdown",
      "metadata": {
        "id": "g2gSZk--0NpY"
      },
      "source": [
        "OPTION 3: load from huggingface"
      ]
    },
    {
      "cell_type": "code",
      "execution_count": null,
      "metadata": {
        "id": "BUWtLwDP0NOv"
      },
      "outputs": [],
      "source": [
        "# !curl -Lo anthro.pt https://huggingface.co/Stkzzzz222/anthro/resolve/main/anthro.pt\n",
        "# !mv \"/content/anthro.pt\" \"/content/stable-diffusion-webui/embeddings\""
      ]
    },
    {
      "cell_type": "markdown",
      "metadata": {
        "id": "6iCWJMUErmVa"
      },
      "source": [
        "# 4. Launch the web ui"
      ]
    },
    {
      "cell_type": "code",
      "execution_count": null,
      "metadata": {
        "id": "96LAZESwK2Ct"
      },
      "outputs": [],
      "source": [
        "%cd /content/stable-diffusion-webui\n",
        "!git checkout d8f8bcb\n",
        "!sed -i 's/gradio==3.15.0/gradio==3.13.0/g' requirements.txt requirements_versions.txt\n",
        "!sed -i -e '''/prepare_environment()/a\\    os.system\\(f\\\"\"\"sed -i -e ''\\\"s/dict()))/dict())).cuda()/g\\\"'' /content/stable-diffusion-webui/repositories/stable-diffusion-stability-ai/ldm/util.py\"\"\")''' /content/stable-diffusion-webui/launch.py\n",
        "!sed -i 's/else \"cpu\"/else devices.get_optimal_device()/g' modules/shared.py\n",
        "!sed -i \"s/'cpu'/devices.get_optimal_device()/g\" modules/extras.py\n",
        "!COMMANDLINE_ARGS=\"--share --lowvram --disable-safe-unpickle --no-half-vae --xformers --reinstall-xformers --enable-insecure-extension-access\" REQS_FILE=\"requirements.txt\" python launch.py"
      ]
    },
    {
      "cell_type": "markdown",
      "metadata": {
        "id": "RhPGO6aC7WWb"
      },
      "source": [
        "# 5. Save model merge"
      ]
    },
    {
      "cell_type": "code",
      "source": [
        "from google.colab import drive\n",
        "drive.mount('/content/drive')"
      ],
      "metadata": {
        "id": "i7OOIWx_Fjug"
      },
      "execution_count": null,
      "outputs": []
    },
    {
      "cell_type": "code",
      "execution_count": null,
      "metadata": {
        "id": "TQFVecaw3W2k"
      },
      "outputs": [],
      "source": [
        "# CHANGE THE FILE NAME WITH OUR MODEL NAME\n",
        "!mkdir \"/content/gdrive/MyDrive/mymodel\"\n",
        "!cp \"/content/stable-diffusion-webui/models/Stable-diffusion/OURMODELNAME.ckpt\" \"/content/gdrive/MyDrive/mymodel\""
      ]
    }
  ],
  "metadata": {
    "accelerator": "GPU",
    "colab": {
      "provenance": [],
      "include_colab_link": true
    },
    "gpuClass": "standard",
    "kernelspec": {
      "display_name": "Python 3",
      "name": "python3"
    },
    "language_info": {
      "name": "python"
    }
  },
  "nbformat": 4,
  "nbformat_minor": 0
}